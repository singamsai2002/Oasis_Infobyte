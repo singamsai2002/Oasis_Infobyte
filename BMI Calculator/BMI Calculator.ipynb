{
 "cells": [
  {
   "cell_type": "markdown",
   "id": "a3969cd3-e383-46eb-87f0-fd30d25ce30e",
   "metadata": {},
   "source": [
    "### Procedure"
   ]
  },
  {
   "cell_type": "markdown",
   "id": "e5f74633-7a72-490c-8f28-7cbacda87d50",
   "metadata": {},
   "source": [
    "Beginner Version (Command-line BMI Calculator):\n",
    "==============================================\n",
    "                  \n",
    "Step 1: Set Up the Project\n",
    "Environment Setup: Ensure Python is installed on your system.\n",
    "Create a New Python File: Open your preferred text editor or IDE and create a file named bmi_calculator.py.\n",
    "\n",
    "Step 2: Get User Input\n",
    "User Input for Weight and Height: Prompt the user to input their weight in kilograms and height in meters.\n",
    "Input Validation: Validate the input to ensure they are valid numbers within reasonable ranges.\n",
    "\n",
    "Step 3: Calculate BMI and Categorize\n",
    "BMI Calculation: Use the BMI formula (BMI = weight / (height * height)) to calculate the BMI.\n",
    "Categorize BMI: Classify the BMI into categories (e.g., underweight, normal, overweight) based on predefined ranges.\n",
    "Display Results: Show the calculated BMI and its category to the user.\n",
    "\n",
    "Step 4: Implement Validation\n",
    "Handle Errors Gracefully: Ensure your program can handle unexpected inputs or errors gracefully.\n",
    "\n",
    "Step 5: Source Code (Beginner Version):"
   ]
  },
  {
   "cell_type": "code",
   "execution_count": 3,
   "id": "8cf6aa42-2c87-4c69-b090-9bd3218f050f",
   "metadata": {},
   "outputs": [
    {
     "name": "stdout",
     "output_type": "stream",
     "text": [
      "Welcome to the BMI Calculator!\n"
     ]
    },
    {
     "name": "stdin",
     "output_type": "stream",
     "text": [
      "Enter your weight in kilograms:  69.500\n",
      "Enter your height in meters:  1.2\n"
     ]
    },
    {
     "name": "stdout",
     "output_type": "stream",
     "text": [
      "Your BMI is: 48.26\n",
      "You are categorized as: Obese\n"
     ]
    }
   ],
   "source": [
    "def calculate_bmi(weight, height):\n",
    "    return weight / (height * height)\n",
    "\n",
    "def categorize_bmi(bmi):\n",
    "    if bmi < 18.5:\n",
    "        return \"Underweight\"\n",
    "    elif 18.5 <= bmi < 25:\n",
    "        return \"Normal weight\"\n",
    "    elif 25 <= bmi < 30:\n",
    "        return \"Overweight\"\n",
    "    else:\n",
    "        return \"Obese\"\n",
    "\n",
    "def main():\n",
    "    print(\"Welcome to the BMI Calculator!\")\n",
    "    weight = float(input(\"Enter your weight in kilograms: \"))\n",
    "    height = float(input(\"Enter your height in meters: \"))\n",
    "\n",
    "    bmi = calculate_bmi(weight, height)\n",
    "    category = categorize_bmi(bmi)\n",
    "\n",
    "    print(f\"Your BMI is: {bmi:.2f}\")\n",
    "    print(f\"You are categorized as: {category}\")\n",
    "\n",
    "if __name__ == \"__main__\":\n",
    "    main()"
   ]
  },
  {
   "cell_type": "markdown",
   "id": "01fd57bb-11b5-4566-bf25-1bc66649b824",
   "metadata": {},
   "source": [
    "### Procedure "
   ]
  },
  {
   "cell_type": "markdown",
   "id": "9e093a6e-360d-41f5-8437-ee3a2ffcbc6d",
   "metadata": {},
   "source": [
    "Advanced Version (GUI-Based BMI Calculator using Tkinter):\n",
    "=========================================================\n",
    "\n",
    "Step 1: Set Up the Project\n",
    "Environment Setup: Ensure Tkinter or PyQt library is available.\n",
    "Design the GUI: Plan the layout with input fields for weight and height, a button to calculate, and an area to display the BMI and category.\n",
    "\n",
    "Step 2: Create a Data Storage System\n",
    "User Data Storage: Implement a way to store user data, such as using a database or file storage.\n",
    "Historical Data Viewing: Enable the user to view their historical BMI data.\n",
    "\n",
    "Step 3: Implement Visualization and Analysis\n",
    "Data Visualization: Utilize libraries like Matplotlib to create graphs showing BMI trends over time.\n",
    "Statistics and Analysis: Implement statistical calculations to provide insights into BMI trends.\n",
    "\n",
    "Step 4: Source Code (Advanced Version):"
   ]
  },
  {
   "cell_type": "markdown",
   "id": "0e412392-f1d2-44b4-963a-b2e2bb6615fa",
   "metadata": {},
   "source": [
    "### Source Code"
   ]
  },
  {
   "cell_type": "code",
   "execution_count": null,
   "id": "84ae4404-3466-4602-8aa4-ae4dbf805f4d",
   "metadata": {},
   "outputs": [],
   "source": [
    "import tkinter as tk\n",
    "from tkinter import messagebox\n",
    "\n",
    "def calculate_bmi(weight, height):\n",
    "    return weight / (height * height)\n",
    "\n",
    "def categorize_bmi(bmi):\n",
    "    if bmi < 18.5:\n",
    "        return \"Underweight\"\n",
    "    elif 18.5 <= bmi < 25:\n",
    "        return \"Normal weight\"\n",
    "    elif 25 <= bmi < 30:\n",
    "        return \"Overweight\"\n",
    "    else:\n",
    "        return \"Obese\"\n",
    "\n",
    "def calculate_bmi_gui():\n",
    "    try:\n",
    "        weight = float(weight_entry.get())\n",
    "        height = float(height_entry.get())\n",
    "        bmi = calculate_bmi(weight, height)\n",
    "        category = categorize_bmi(bmi)\n",
    "        bmi_result_label.config(text=f\"BMI: {bmi:.2f}\")\n",
    "        category_label.config(text=f\"Category: {category}\")\n",
    "\n",
    "        # Implement data storage for advanced version here\n",
    "        # Save BMI data to a file or database\n",
    "\n",
    "    except ValueError:\n",
    "        messagebox.showerror(\"Error\", \"Please enter valid numeric values.\")\n",
    "\n",
    "# GUI setup\n",
    "root = tk.Tk()\n",
    "root.title(\"BMI Calculator\")\n",
    "\n",
    "weight_label = tk.Label(root, text=\"Weight (kg):\")\n",
    "weight_label.pack()\n",
    "\n",
    "weight_entry = tk.Entry(root)\n",
    "weight_entry.pack()\n",
    "\n",
    "height_label = tk.Label(root, text=\"Height (m):\")\n",
    "height_label.pack()\n",
    "\n",
    "height_entry = tk.Entry(root)\n",
    "height_entry.pack()\n",
    "\n",
    "calculate_button = tk.Button(root, text=\"Calculate BMI\", command=calculate_bmi_gui)\n",
    "calculate_button.pack()\n",
    "\n",
    "bmi_result_label = tk.Label(root, text=\"BMI: \")\n",
    "bmi_result_label.pack()\n",
    "\n",
    "category_label = tk.Label(root, text=\"Category: \")\n",
    "category_label.pack()\n",
    "\n",
    "root.mainloop()"
   ]
  }
 ],
 "metadata": {
  "kernelspec": {
   "display_name": "Python 3 (ipykernel)",
   "language": "python",
   "name": "python3"
  },
  "language_info": {
   "codemirror_mode": {
    "name": "ipython",
    "version": 3
   },
   "file_extension": ".py",
   "mimetype": "text/x-python",
   "name": "python",
   "nbconvert_exporter": "python",
   "pygments_lexer": "ipython3",
   "version": "3.11.5"
  }
 },
 "nbformat": 4,
 "nbformat_minor": 5
}
