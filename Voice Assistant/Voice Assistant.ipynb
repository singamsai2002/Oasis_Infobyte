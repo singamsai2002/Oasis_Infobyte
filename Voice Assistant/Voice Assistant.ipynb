{
 "cells": [
  {
   "cell_type": "markdown",
   "id": "4d1a39fa-be75-4c01-b213-8e89f95b951b",
   "metadata": {},
   "source": [
    "### Procedure/Steps"
   ]
  },
  {
   "cell_type": "markdown",
   "id": "64e9047e-117a-4f82-8b97-c21c9923018e",
   "metadata": {},
   "source": [
    "Voice Assistant\n",
    "===============\n",
    "\n",
    "Creating an entire voice assistant involves various components, libraries, and potentially APIs,\n",
    "and providing the entire code here might be quite extensive.\n",
    "\n",
    "However, I can provide you with a basic structure using Python and Google's SpeechRecognition library for speech recognition. \n",
    "For advanced functionalities, other libraries, APIs, or services might need to be incorporated.\n",
    "\n",
    "Let's create a basic voice assistant in Python that can recognize a few commands and respond accordingly.\n",
    "\n",
    "Firstly, ensure you have the SpeechRecognition library installed. You can install it using pip:"
   ]
  },
  {
   "cell_type": "code",
   "execution_count": 12,
   "id": "b1440776-a10c-4310-8afc-f9f75f3ab0d6",
   "metadata": {},
   "outputs": [
    {
     "name": "stdout",
     "output_type": "stream",
     "text": [
      "Listening...\n",
      "Recognizing...\n",
      "User: hello\n",
      "Assistant: Hello! How can I help you?\n",
      "Listening...\n",
      "Recognizing...\n",
      "User: what is today's date\n",
      "Assistant: Today's date is January 03, 2024.\n",
      "Listening...\n",
      "Recognizing...\n",
      "User: what is time now\n",
      "Assistant: The time is 13:52.\n",
      "Listening...\n",
      "Recognizing...\n",
      "User: Sorry, I didn't catch that.\n",
      "Assistant: Sorry, I didn't understand that command.\n",
      "Listening...\n",
      "Recognizing...\n",
      "User: Sorry, I didn't catch that.\n",
      "Assistant: Sorry, I didn't understand that command.\n",
      "Listening...\n",
      "Recognizing...\n",
      "User: Sorry, I didn't catch that.\n",
      "Assistant: Sorry, I didn't understand that command.\n",
      "Listening...\n",
      "Recognizing...\n",
      "User: stop any amma\n",
      "Assistant: Goodbye! Exiting the assistant.\n"
     ]
    }
   ],
   "source": [
    "import speech_recognition as sr\n",
    "import datetime\n",
    "from selenium import webdriver\n",
    "from selenium.webdriver.common.keys import Keys\n",
    "\n",
    "# Initialize the recognizer\n",
    "recognizer = sr.Recognizer()\n",
    "\n",
    "# Function to recognize speech\n",
    "def recognize_speech():\n",
    "    with sr.Microphone() as source:\n",
    "        print(\"Listening...\")\n",
    "        recognizer.adjust_for_ambient_noise(source)\n",
    "        audio = recognizer.listen(source)\n",
    "\n",
    "        try:\n",
    "            print(\"Recognizing...\")\n",
    "            text = recognizer.recognize_google(audio)\n",
    "            return text.lower()\n",
    "        except sr.UnknownValueError:\n",
    "            return \"Sorry, I didn't catch that.\"\n",
    "        except sr.RequestError:\n",
    "            return \"Sorry, there was an issue with the service.\"\n",
    "\n",
    "# Function to perform actions based on recognized speech\n",
    "def perform_action(command):\n",
    "    if \"hello\" in command:\n",
    "        return \"Hello! How can I help you?\"\n",
    "    elif \"time\" in command:\n",
    "        time_now = datetime.datetime.now().strftime(\"%H:%M\")\n",
    "        return f\"The time is {time_now}.\"\n",
    "    elif \"date\" in command:\n",
    "        date_today = datetime.date.today().strftime(\"%B %d, %Y\")\n",
    "        return f\"Today's date is {date_today}.\"\n",
    "    elif \"search\" in command:\n",
    "        query = command.replace(\"search\", \"\").strip()\n",
    "        search_google(query)\n",
    "        return f\"Searching Google for {query}...\"\n",
    "    elif \"stop\" in command:\n",
    "        return \"Goodbye! Exiting the assistant.\"\n",
    "    else:\n",
    "        return \"Sorry, I didn't understand that command.\"\n",
    "\n",
    "# Function to perform a Google search using Selenium\n",
    "def search_google(query):\n",
    "    driver = webdriver.Chrome()  # Replace this with the path to your Chrome WebDriver\n",
    "    driver.get(\"https://www.google.com\")\n",
    "    search_box = driver.find_element_by_name(\"q\")\n",
    "    search_box.send_keys(query)\n",
    "    search_box.send_keys(Keys.RETURN)\n",
    "\n",
    "# Main loop for interacting with the assistant\n",
    "while True:\n",
    "    command = recognize_speech()\n",
    "    print(\"User:\", command)\n",
    "    if \"stop\" in command:\n",
    "        print(\"Assistant: Goodbye! Exiting the assistant.\")\n",
    "        break  # Exit the loop if \"stop\" command is recognized\n",
    "    else:\n",
    "        response = perform_action(command)\n",
    "        print(\"Assistant:\", response)"
   ]
  },
  {
   "cell_type": "code",
   "execution_count": null,
   "id": "8c6695e7-a376-462f-96b3-99ee044aaa8b",
   "metadata": {},
   "outputs": [],
   "source": []
  }
 ],
 "metadata": {
  "kernelspec": {
   "display_name": "Python 3 (ipykernel)",
   "language": "python",
   "name": "python3"
  },
  "language_info": {
   "codemirror_mode": {
    "name": "ipython",
    "version": 3
   },
   "file_extension": ".py",
   "mimetype": "text/x-python",
   "name": "python",
   "nbconvert_exporter": "python",
   "pygments_lexer": "ipython3",
   "version": "3.11.5"
  }
 },
 "nbformat": 4,
 "nbformat_minor": 5
}
