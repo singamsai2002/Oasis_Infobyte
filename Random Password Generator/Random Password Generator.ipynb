{
 "cells": [
  {
   "cell_type": "markdown",
   "id": "30104c9c-ca1a-4e29-b6ab-f620901719a1",
   "metadata": {},
   "source": [
    "### Procedure"
   ]
  },
  {
   "cell_type": "markdown",
   "id": "01e08c02-60e2-4aad-8782-779e4b7b7313",
   "metadata": {},
   "source": [
    "Beginner Version (Command-line Password Generator):\n",
    "===================================================\n",
    "\n",
    "Step 1: Set Up the Project\n",
    "Environment Setup: Install Python if not already installed.\n",
    "Create a New Python File: Open your favorite text editor or IDE \n",
    "\n",
    "Step 2: Get User Input\n",
    "User Input for Password Length: Prompt the user to enter the desired length of the password.\n",
    "Character Set Preferences: Ask the user for preferences regarding including letters, numbers, and symbols in the password.\n",
    "\n",
    "Step 3: Generate Password\n",
    "Generate Random Password: Based on user input, generate a random password that meets the specified criteria.\n",
    "Output Password: Display the generated password to the user.\n",
    "\n",
    "Step 4: Implement Validation\n",
    "Input Validation: Validate the user's input to ensure it's within acceptable ranges and formats.\n",
    "\n",
    "Step 5: Source Code (Beginner Version):"
   ]
  },
  {
   "cell_type": "markdown",
   "id": "f2e310fa-ef77-43a4-abbd-ba5451b51225",
   "metadata": {},
   "source": [
    "### Source Code"
   ]
  },
  {
   "cell_type": "code",
   "execution_count": 2,
   "id": "c908642b-6e03-4dfd-a22d-676601ad6e49",
   "metadata": {},
   "outputs": [
    {
     "name": "stdout",
     "output_type": "stream",
     "text": [
      "Welcome to the Password Generator!\n"
     ]
    },
    {
     "name": "stdin",
     "output_type": "stream",
     "text": [
      "Enter password length:  10\n",
      "Include letters? (y/n):  y\n",
      "Include numbers? (y/n):  y\n",
      "Include symbols? (y/n):  n\n"
     ]
    },
    {
     "name": "stdout",
     "output_type": "stream",
     "text": [
      "Generated Password: 8lnnEB0P5S\n"
     ]
    }
   ],
   "source": [
    "import random\n",
    "import string\n",
    "\n",
    "def generate_password(length, use_letters, use_numbers, use_symbols):\n",
    "    characters = ''\n",
    "    if use_letters:\n",
    "        characters += string.ascii_letters\n",
    "    if use_numbers:\n",
    "        characters += string.digits\n",
    "    if use_symbols:\n",
    "        characters += string.punctuation\n",
    "\n",
    "    if not characters:\n",
    "        print(\"Please choose at least one character type.\")\n",
    "        return None\n",
    "\n",
    "    password = ''.join(random.choice(characters) for _ in range(length))\n",
    "    return password\n",
    "\n",
    "def main():\n",
    "    print(\"Welcome to the Password Generator!\")\n",
    "    length = int(input(\"Enter password length: \"))\n",
    "    use_letters = input(\"Include letters? (y/n): \").lower() == 'y'\n",
    "    use_numbers = input(\"Include numbers? (y/n): \").lower() == 'y'\n",
    "    use_symbols = input(\"Include symbols? (y/n): \").lower() == 'y'\n",
    "\n",
    "    password = generate_password(length, use_letters, use_numbers, use_symbols)\n",
    "    if password:\n",
    "        print(\"Generated Password:\", password)\n",
    "\n",
    "if __name__ == \"__main__\":\n",
    "    main()"
   ]
  },
  {
   "cell_type": "markdown",
   "id": "346baf22-1d8b-49f3-9323-aaa79206239e",
   "metadata": {},
   "source": [
    "### Procedure"
   ]
  },
  {
   "cell_type": "markdown",
   "id": "dcadcc23-70c0-447e-804a-354e16dd2511",
   "metadata": {},
   "source": [
    "Advanced Version (GUI-Based Password Generator using Tkinter):\n",
    "=============================================================\n",
    "\n",
    "Step 1: Set Up the Project\n",
    "Environment Setup: Ensure Tkinter is available (comes with standard Python installations).\n",
    "\n",
    "Step 2: Design the GUI\n",
    "Create GUI Elements: Design a window with input fields for password length, checkboxes for character types, and a button to generate the password.\n",
    "Implement Button Functionality: Connect the button to a function that generates the password based on user input.\n",
    "\n",
    "Step 3: Implement Additional Features\n",
    "Clipboard Integration: Use the pyperclip module to copy the generated password to the clipboard.\n",
    "Password Complexity & Security Rules: Implement rules to ensure generated passwords meet specific complexity criteria.\n",
    "Customization: Allow users to further customize password generation by excluding specific characters.\n",
    "\n",
    "Step 4: Source Code (Advanced Version):"
   ]
  },
  {
   "cell_type": "markdown",
   "id": "058bd88b-7738-442c-9a2b-d4543d8bbc5a",
   "metadata": {},
   "source": [
    "### Source Code"
   ]
  },
  {
   "cell_type": "code",
   "execution_count": null,
   "id": "76a05b2c-2025-4bba-823d-b5eb8cafe742",
   "metadata": {},
   "outputs": [],
   "source": [
    "import random\n",
    "import string\n",
    "import tkinter as tk\n",
    "import pyperclip\n",
    "\n",
    "def generate_password(length, use_letters, use_numbers, use_symbols):\n",
    "    characters = ''\n",
    "    if use_letters:\n",
    "        characters += string.ascii_letters\n",
    "    if use_numbers:\n",
    "        characters += string.digits\n",
    "    if use_symbols:\n",
    "        characters += string.punctuation\n",
    "\n",
    "    if not characters:\n",
    "        return \"Please choose at least one character type.\"\n",
    "\n",
    "    password = ''.join(random.choice(characters) for _ in range(length))\n",
    "    return password\n",
    "\n",
    "def generate_password_gui():\n",
    "    length = int(length_entry.get())\n",
    "    use_letters = letters_var.get()\n",
    "    use_numbers = numbers_var.get()\n",
    "    use_symbols = symbols_var.get()\n",
    "\n",
    "    password = generate_password(length, use_letters, use_numbers, use_symbols)\n",
    "    if password:\n",
    "        password_output.delete(0, tk.END)\n",
    "        password_output.insert(0, password)\n",
    "        pyperclip.copy(password)\n",
    "\n",
    "# GUI setup\n",
    "root = tk.Tk()\n",
    "root.title(\"Password Generator\")\n",
    "\n",
    "length_label = tk.Label(root, text=\"Password Length:\")\n",
    "length_label.pack()\n",
    "\n",
    "length_entry = tk.Entry(root)\n",
    "length_entry.pack()\n",
    "\n",
    "letters_var = tk.BooleanVar()\n",
    "letters_checkbox = tk.Checkbutton(root, text=\"Include Letters\", variable=letters_var)\n",
    "letters_checkbox.pack()\n",
    "\n",
    "numbers_var = tk.BooleanVar()\n",
    "numbers_checkbox = tk.Checkbutton(root, text=\"Include Numbers\", variable=numbers_var)\n",
    "numbers_checkbox.pack()\n",
    "\n",
    "symbols_var = tk.BooleanVar()\n",
    "symbols_checkbox = tk.Checkbutton(root, text=\"Include Symbols\", variable=symbols_var)\n",
    "symbols_checkbox.pack()\n",
    "\n",
    "generate_button = tk.Button(root, text=\"Generate Password\", command=generate_password_gui)\n",
    "generate_button.pack()\n",
    "\n",
    "password_output = tk.Entry(root, width=30)\n",
    "password_output.pack()\n",
    "\n",
    "root.mainloop()\n"
   ]
  },
  {
   "cell_type": "code",
   "execution_count": null,
   "id": "be8ba342-4d65-405c-b9f5-3a9cbc299a55",
   "metadata": {},
   "outputs": [],
   "source": [
    " "
   ]
  }
 ],
 "metadata": {
  "kernelspec": {
   "display_name": "Python 3 (ipykernel)",
   "language": "python",
   "name": "python3"
  },
  "language_info": {
   "codemirror_mode": {
    "name": "ipython",
    "version": 3
   },
   "file_extension": ".py",
   "mimetype": "text/x-python",
   "name": "python",
   "nbconvert_exporter": "python",
   "pygments_lexer": "ipython3",
   "version": "3.11.5"
  }
 },
 "nbformat": 4,
 "nbformat_minor": 5
}
